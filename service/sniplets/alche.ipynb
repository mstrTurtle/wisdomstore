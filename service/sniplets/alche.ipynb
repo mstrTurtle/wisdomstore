{
 "cells": [
  {
   "cell_type": "code",
   "execution_count": 1,
   "metadata": {},
   "outputs": [
    {
     "name": "stdout",
     "output_type": "stream",
     "text": [
      "2022-12-16 14:06:18,892 INFO sqlalchemy.engine.Engine BEGIN (implicit)\n",
      "2022-12-16 14:06:18,898 INFO sqlalchemy.engine.Engine select 'hello world'\n",
      "2022-12-16 14:06:18,900 INFO sqlalchemy.engine.Engine [generated in 0.00904s] ()\n",
      "[('hello world',)]\n",
      "2022-12-16 14:06:18,904 INFO sqlalchemy.engine.Engine ROLLBACK\n"
     ]
    }
   ],
   "source": [
    "from sqlalchemy import create_engine\n",
    "engine = create_engine(\"sqlite+pysqlite:///:memory:\", future=True, echo=True)\n",
    "\n",
    "from sqlalchemy import text\n",
    "\n",
    "with engine.connect() as conn:\n",
    "    result = conn.execute(text(\"select 'hello world'\"))\n",
    "    print(result.all())"
   ]
  },
  {
   "cell_type": "code",
   "execution_count": 2,
   "metadata": {},
   "outputs": [
    {
     "name": "stdout",
     "output_type": "stream",
     "text": [
      "2022-12-16 14:06:18,993 INFO sqlalchemy.engine.Engine BEGIN (implicit)\n",
      "2022-12-16 14:06:18,996 INFO sqlalchemy.engine.Engine CREATE TABLE some_table (x int, y int)\n",
      "2022-12-16 14:06:18,999 INFO sqlalchemy.engine.Engine [generated in 0.00607s] ()\n",
      "2022-12-16 14:06:19,003 INFO sqlalchemy.engine.Engine INSERT INTO some_table (x, y) VALUES (?, ?)\n",
      "2022-12-16 14:06:19,005 INFO sqlalchemy.engine.Engine [generated in 0.00198s] [(1, 1), (2, 4)]\n",
      "2022-12-16 14:06:19,008 INFO sqlalchemy.engine.Engine COMMIT\n"
     ]
    }
   ],
   "source": [
    "# \"commit as you go\"\n",
    "with engine.connect() as conn:\n",
    "    conn.execute(text(\"CREATE TABLE some_table (x int, y int)\"))\n",
    "    conn.execute(\n",
    "        text(\"INSERT INTO some_table (x, y) VALUES (:x, :y)\"),\n",
    "        [{\"x\": 1, \"y\": 1}, {\"x\": 2, \"y\": 4}],\n",
    "    )\n",
    "    conn.commit()\n"
   ]
  },
  {
   "cell_type": "code",
   "execution_count": 3,
   "metadata": {},
   "outputs": [
    {
     "name": "stdout",
     "output_type": "stream",
     "text": [
      "2022-12-16 14:06:19,166 INFO sqlalchemy.engine.Engine BEGIN (implicit)\n",
      "2022-12-16 14:06:19,168 INFO sqlalchemy.engine.Engine INSERT INTO some_table (x, y) VALUES (?, ?)\n",
      "2022-12-16 14:06:19,171 INFO sqlalchemy.engine.Engine [cached since 0.1683s ago] [(6, 8), (9, 10)]\n",
      "2022-12-16 14:06:19,174 INFO sqlalchemy.engine.Engine COMMIT\n"
     ]
    }
   ],
   "source": [
    "# \"begin once\"\n",
    "with engine.begin() as conn:\n",
    "    conn.execute(\n",
    "        text(\"INSERT INTO some_table (x, y) VALUES (:x, :y)\"),\n",
    "        [{\"x\": 6, \"y\": 8}, {\"x\": 9, \"y\": 10}],\n",
    "    )\n",
    "# BEGIN (implicit)\n",
    "# INSERT INTO some_table (x, y) VALUES (?, ?)\n",
    "# [...] [(6, 8), (9, 10)]\n",
    "# <sqlalchemy.engine.cursor.CursorResult object at 0x...>\n",
    "# COMMIT"
   ]
  },
  {
   "cell_type": "code",
   "execution_count": 4,
   "metadata": {},
   "outputs": [
    {
     "name": "stdout",
     "output_type": "stream",
     "text": [
      "2022-12-16 14:06:19,311 INFO sqlalchemy.engine.Engine BEGIN (implicit)\n",
      "2022-12-16 14:06:19,313 INFO sqlalchemy.engine.Engine SELECT x, y FROM some_table\n",
      "2022-12-16 14:06:19,315 INFO sqlalchemy.engine.Engine [generated in 0.00446s] ()\n",
      "x: 1  y: 1\n",
      "x: 2  y: 4\n",
      "x: 6  y: 8\n",
      "x: 9  y: 10\n",
      "2022-12-16 14:06:19,319 INFO sqlalchemy.engine.Engine ROLLBACK\n"
     ]
    }
   ],
   "source": [
    "with engine.connect() as conn:\n",
    "    result = conn.execute(text(\"SELECT x, y FROM some_table\"))\n",
    "    for row in result:\n",
    "        print(f\"x: {row.x}  y: {row.y}\")\n",
    "# BEGIN (implicit)\n",
    "# SELECT x, y FROM some_table\n",
    "# [...] ()\n",
    "# x: 1  y: 1\n",
    "# x: 2  y: 4\n",
    "# x: 6  y: 8\n",
    "# x: 9  y: 10\n",
    "# ROLLBACK"
   ]
  },
  {
   "cell_type": "code",
   "execution_count": 5,
   "metadata": {},
   "outputs": [
    {
     "name": "stdout",
     "output_type": "stream",
     "text": [
      "2022-12-16 14:06:19,429 INFO sqlalchemy.engine.Engine BEGIN (implicit)\n",
      "2022-12-16 14:06:19,431 INFO sqlalchemy.engine.Engine SELECT x, y FROM some_table WHERE y > ?\n",
      "2022-12-16 14:06:19,433 INFO sqlalchemy.engine.Engine [generated in 0.00483s] (2,)\n",
      "x: 2  y: 4\n",
      "x: 6  y: 8\n",
      "x: 9  y: 10\n",
      "2022-12-16 14:06:19,436 INFO sqlalchemy.engine.Engine ROLLBACK\n"
     ]
    }
   ],
   "source": [
    "with engine.connect() as conn:\n",
    "    result = conn.execute(text(\"SELECT x, y FROM some_table WHERE y > :y\"), {\"y\": 2})\n",
    "    for row in result:\n",
    "        print(f\"x: {row.x}  y: {row.y}\")\n",
    "# BEGIN (implicit)\n",
    "# SELECT x, y FROM some_table WHERE y > ?\n",
    "# [...] (2,)\n",
    "# x: 2  y: 4\n",
    "# x: 6  y: 8\n",
    "# x: 9  y: 10\n",
    "# ROLLBACK"
   ]
  },
  {
   "cell_type": "code",
   "execution_count": 6,
   "metadata": {},
   "outputs": [
    {
     "name": "stdout",
     "output_type": "stream",
     "text": [
      "2022-12-16 14:06:19,931 INFO sqlalchemy.engine.Engine BEGIN (implicit)\n",
      "2022-12-16 14:06:19,935 INFO sqlalchemy.engine.Engine SELECT x, y FROM some_table WHERE y > ? ORDER BY x, y\n",
      "2022-12-16 14:06:19,937 INFO sqlalchemy.engine.Engine [generated in 0.00230s] (6,)\n",
      "x: 6  y: 8\n",
      "x: 9  y: 10\n",
      "2022-12-16 14:06:19,941 INFO sqlalchemy.engine.Engine ROLLBACK\n"
     ]
    }
   ],
   "source": [
    "from sqlalchemy.orm import Session\n",
    "\n",
    "stmt = text(\"SELECT x, y FROM some_table WHERE y > :y ORDER BY x, y\")\n",
    "with Session(engine) as session:\n",
    "    result = session.execute(stmt, {\"y\": 6})\n",
    "    for row in result:\n",
    "        print(f\"x: {row.x}  y: {row.y}\")\n",
    "# BEGIN (implicit)\n",
    "# SELECT x, y FROM some_table WHERE y > ? ORDER BY x, y\n",
    "# [...] (6,)\n",
    "# x: 6  y: 8\n",
    "# x: 9  y: 10\n",
    "# x: 11  y: 12\n",
    "# x: 13  y: 14\n",
    "# ROLLBACK"
   ]
  },
  {
   "cell_type": "code",
   "execution_count": 7,
   "metadata": {},
   "outputs": [
    {
     "name": "stdout",
     "output_type": "stream",
     "text": [
      "2022-12-16 14:06:20,022 INFO sqlalchemy.engine.Engine BEGIN (implicit)\n",
      "2022-12-16 14:06:20,025 INFO sqlalchemy.engine.Engine UPDATE some_table SET y=? WHERE x=?\n",
      "2022-12-16 14:06:20,026 INFO sqlalchemy.engine.Engine [generated in 0.00179s] [(11, 9), (15, 13)]\n",
      "2022-12-16 14:06:20,031 INFO sqlalchemy.engine.Engine COMMIT\n"
     ]
    }
   ],
   "source": [
    "with Session(engine) as session:\n",
    "    result = session.execute(\n",
    "        text(\"UPDATE some_table SET y=:y WHERE x=:x\"),\n",
    "        [{\"x\": 9, \"y\": 11}, {\"x\": 13, \"y\": 15}],\n",
    "    )\n",
    "    session.commit()\n",
    "# BEGIN (implicit)\n",
    "# UPDATE some_table SET y=? WHERE x=?\n",
    "# [...] [(11, 9), (15, 13)]\n",
    "# COMMIT"
   ]
  },
  {
   "cell_type": "code",
   "execution_count": 8,
   "metadata": {},
   "outputs": [],
   "source": [
    "from sqlalchemy import MetaData\n",
    "metadata_obj = MetaData()\n",
    "from sqlalchemy import Table, Column, Integer, String\n",
    "user_table = Table(\n",
    "    \"user_account\",\n",
    "    metadata_obj,\n",
    "    Column(\"id\", Integer, primary_key=True),\n",
    "    Column(\"name\", String(30)),\n",
    "    Column(\"fullname\", String),\n",
    ")"
   ]
  },
  {
   "cell_type": "code",
   "execution_count": 9,
   "metadata": {},
   "outputs": [
    {
     "data": {
      "text/plain": [
       "PrimaryKeyConstraint(Column('id', Integer(), table=<user_account>, primary_key=True, nullable=False))"
      ]
     },
     "execution_count": 9,
     "metadata": {},
     "output_type": "execute_result"
    }
   ],
   "source": [
    "user_table.c.name\n",
    "# Column('name', String(length=30), table=<user_account>)\n",
    "\n",
    "user_table.c.keys()\n",
    "# ['id', 'name', 'fullname']\n",
    "\n",
    "user_table.primary_key\n",
    "# PrimaryKeyConstraint(Column('id', Integer(), table=<user_account>, primary_key=True, nullable=False))"
   ]
  },
  {
   "cell_type": "code",
   "execution_count": 10,
   "metadata": {},
   "outputs": [],
   "source": [
    "from sqlalchemy import ForeignKey\n",
    "address_table = Table(\n",
    "    \"address\",\n",
    "    metadata_obj,\n",
    "    Column(\"id\", Integer, primary_key=True),\n",
    "    Column(\"user_id\", ForeignKey(\"user_account.id\"), nullable=False),\n",
    "    Column(\"email_address\", String, nullable=False),\n",
    ")\n"
   ]
  },
  {
   "attachments": {},
   "cell_type": "markdown",
   "metadata": {},
   "source": [
    "The MetaData object also features a MetaData.drop_all() method that will emit DROP statements in the reverse order as it would emit CREATE in order to drop schema elements."
   ]
  },
  {
   "cell_type": "code",
   "execution_count": 11,
   "metadata": {},
   "outputs": [
    {
     "name": "stdout",
     "output_type": "stream",
     "text": [
      "2022-12-16 14:06:20,632 INFO sqlalchemy.engine.Engine BEGIN (implicit)\n",
      "2022-12-16 14:06:20,635 INFO sqlalchemy.engine.Engine PRAGMA main.table_info(\"user_account\")\n",
      "2022-12-16 14:06:20,637 INFO sqlalchemy.engine.Engine [raw sql] ()\n",
      "2022-12-16 14:06:20,641 INFO sqlalchemy.engine.Engine PRAGMA temp.table_info(\"user_account\")\n",
      "2022-12-16 14:06:20,643 INFO sqlalchemy.engine.Engine [raw sql] ()\n",
      "2022-12-16 14:06:20,645 INFO sqlalchemy.engine.Engine PRAGMA main.table_info(\"address\")\n",
      "2022-12-16 14:06:20,647 INFO sqlalchemy.engine.Engine [raw sql] ()\n",
      "2022-12-16 14:06:20,650 INFO sqlalchemy.engine.Engine PRAGMA temp.table_info(\"address\")\n",
      "2022-12-16 14:06:20,651 INFO sqlalchemy.engine.Engine [raw sql] ()\n",
      "2022-12-16 14:06:20,655 INFO sqlalchemy.engine.Engine \n",
      "CREATE TABLE user_account (\n",
      "\tid INTEGER NOT NULL, \n",
      "\tname VARCHAR(30), \n",
      "\tfullname VARCHAR, \n",
      "\tPRIMARY KEY (id)\n",
      ")\n",
      "\n",
      "\n",
      "2022-12-16 14:06:20,657 INFO sqlalchemy.engine.Engine [no key 0.00185s] ()\n",
      "2022-12-16 14:06:20,661 INFO sqlalchemy.engine.Engine \n",
      "CREATE TABLE address (\n",
      "\tid INTEGER NOT NULL, \n",
      "\tuser_id INTEGER NOT NULL, \n",
      "\temail_address VARCHAR NOT NULL, \n",
      "\tPRIMARY KEY (id), \n",
      "\tFOREIGN KEY(user_id) REFERENCES user_account (id)\n",
      ")\n",
      "\n",
      "\n",
      "2022-12-16 14:06:20,663 INFO sqlalchemy.engine.Engine [no key 0.00269s] ()\n",
      "2022-12-16 14:06:20,667 INFO sqlalchemy.engine.Engine COMMIT\n"
     ]
    }
   ],
   "source": [
    "\n",
    "metadata_obj.create_all(engine)\n",
    "# BEGIN (implicit)\n",
    "# PRAGMA main.table_...info(\"user_account\")\n",
    "# ...\n",
    "# PRAGMA main.table_...info(\"address\")\n",
    "# ...\n",
    "# CREATE TABLE user_account (\n",
    "#     id INTEGER NOT NULL,\n",
    "#     name VARCHAR(30),\n",
    "#     fullname VARCHAR,\n",
    "#     PRIMARY KEY (id)\n",
    "# )\n",
    "# ...\n",
    "# CREATE TABLE address (\n",
    "#     id INTEGER NOT NULL,\n",
    "#     user_id INTEGER NOT NULL,\n",
    "#     email_address VARCHAR NOT NULL,\n",
    "#     PRIMARY KEY (id),\n",
    "#     FOREIGN KEY(user_id) REFERENCES user_account (id)\n",
    "# )\n",
    "# ...\n",
    "# COMMIT"
   ]
  },
  {
   "cell_type": "code",
   "execution_count": 12,
   "metadata": {},
   "outputs": [],
   "source": [
    "from sqlalchemy.orm import DeclarativeBase\n",
    "class Base(DeclarativeBase):\n",
    "    pass"
   ]
  },
  {
   "cell_type": "code",
   "execution_count": 13,
   "metadata": {},
   "outputs": [
    {
     "data": {
      "text/plain": [
       "<sqlalchemy.orm.decl_api.registry at 0x24086ff3820>"
      ]
     },
     "execution_count": 13,
     "metadata": {},
     "output_type": "execute_result"
    }
   ],
   "source": [
    "Base.metadata\n",
    "# MetaData()\n",
    "Base.registry\n",
    "# <sqlalchemy.orm.decl_api.registry object at 0x...>"
   ]
  },
  {
   "cell_type": "code",
   "execution_count": 14,
   "metadata": {},
   "outputs": [],
   "source": [
    "from typing import List\n",
    "from typing import Optional\n",
    "from sqlalchemy.orm import Mapped\n",
    "from sqlalchemy.orm import mapped_column\n",
    "from sqlalchemy.orm import relationship\n",
    "\n",
    "class User(Base):\n",
    "    __tablename__ = \"user_account\"\n",
    "\n",
    "    id: Mapped[int] = mapped_column(primary_key=True)\n",
    "    name: Mapped[str] = mapped_column(String(30))\n",
    "    fullname: Mapped[Optional[str]]\n",
    "\n",
    "    addresses: Mapped[List[\"Address\"]] = relationship(back_populates=\"user\")\n",
    "\n",
    "    def __repr__(self) -> str:\n",
    "        return f\"User(id={self.id!r}, name={self.name!r}, fullname={self.fullname!r})\"\n",
    "\n",
    "class Address(Base):\n",
    "    __tablename__ = \"address\"\n",
    "\n",
    "    id: Mapped[int] = mapped_column(primary_key=True)\n",
    "    email_address: Mapped[str]\n",
    "    user_id = mapped_column(ForeignKey(\"user_account.id\"))\n",
    "\n",
    "    user: Mapped[User] = relationship(back_populates=\"addresses\")\n",
    "\n",
    "    def __repr__(self) -> str:\n",
    "        return f\"Address(id={self.id!r}, email_address={self.email_address!r})\""
   ]
  },
  {
   "cell_type": "code",
   "execution_count": 15,
   "metadata": {},
   "outputs": [
    {
     "data": {
      "text/plain": [
       "'2.0.0b4'"
      ]
     },
     "execution_count": 15,
     "metadata": {},
     "output_type": "execute_result"
    }
   ],
   "source": [
    "import sqlalchemy\n",
    "sqlalchemy.__version__  "
   ]
  },
  {
   "cell_type": "code",
   "execution_count": 16,
   "metadata": {},
   "outputs": [],
   "source": [
    "sandy = User(name=\"sandy\", fullname=\"Sandy Cheeks\")"
   ]
  },
  {
   "cell_type": "code",
   "execution_count": 17,
   "metadata": {},
   "outputs": [
    {
     "name": "stdout",
     "output_type": "stream",
     "text": [
      "2022-12-16 14:38:36,158 INFO sqlalchemy.engine.Engine BEGIN (implicit)\n",
      "2022-12-16 14:38:36,159 INFO sqlalchemy.engine.Engine PRAGMA main.table_info(\"user_account\")\n",
      "2022-12-16 14:38:36,160 INFO sqlalchemy.engine.Engine [raw sql] ()\n",
      "2022-12-16 14:38:36,164 INFO sqlalchemy.engine.Engine PRAGMA main.table_info(\"address\")\n",
      "2022-12-16 14:38:36,165 INFO sqlalchemy.engine.Engine [raw sql] ()\n",
      "2022-12-16 14:38:36,168 INFO sqlalchemy.engine.Engine COMMIT\n"
     ]
    }
   ],
   "source": [
    "Base.metadata.create_all(engine)"
   ]
  },
  {
   "cell_type": "code",
   "execution_count": 18,
   "metadata": {},
   "outputs": [
    {
     "name": "stdout",
     "output_type": "stream",
     "text": [
      "2022-12-16 14:41:35,943 INFO sqlalchemy.engine.Engine BEGIN (implicit)\n",
      "2022-12-16 14:41:35,945 INFO sqlalchemy.engine.Engine PRAGMA main.table_xinfo(\"some_table\")\n",
      "2022-12-16 14:41:35,947 INFO sqlalchemy.engine.Engine [raw sql] ()\n",
      "2022-12-16 14:41:35,953 INFO sqlalchemy.engine.Engine SELECT sql FROM  (SELECT * FROM sqlite_master UNION ALL   SELECT * FROM sqlite_temp_master) WHERE name = ? AND type in ('table', 'view')\n",
      "2022-12-16 14:41:35,955 INFO sqlalchemy.engine.Engine [raw sql] ('some_table',)\n",
      "2022-12-16 14:41:35,958 INFO sqlalchemy.engine.Engine PRAGMA main.foreign_key_list(\"some_table\")\n",
      "2022-12-16 14:41:35,959 INFO sqlalchemy.engine.Engine [raw sql] ()\n",
      "2022-12-16 14:41:35,962 INFO sqlalchemy.engine.Engine PRAGMA temp.foreign_key_list(\"some_table\")\n",
      "2022-12-16 14:41:35,963 INFO sqlalchemy.engine.Engine [raw sql] ()\n",
      "2022-12-16 14:41:35,966 INFO sqlalchemy.engine.Engine SELECT sql FROM  (SELECT * FROM sqlite_master UNION ALL   SELECT * FROM sqlite_temp_master) WHERE name = ? AND type in ('table', 'view')\n",
      "2022-12-16 14:41:35,967 INFO sqlalchemy.engine.Engine [raw sql] ('some_table',)\n",
      "2022-12-16 14:41:35,971 INFO sqlalchemy.engine.Engine PRAGMA main.index_list(\"some_table\")\n",
      "2022-12-16 14:41:35,973 INFO sqlalchemy.engine.Engine [raw sql] ()\n",
      "2022-12-16 14:41:35,975 INFO sqlalchemy.engine.Engine PRAGMA temp.index_list(\"some_table\")\n",
      "2022-12-16 14:41:35,976 INFO sqlalchemy.engine.Engine [raw sql] ()\n",
      "2022-12-16 14:41:35,979 INFO sqlalchemy.engine.Engine PRAGMA main.table_info(\"some_table\")\n",
      "2022-12-16 14:41:35,981 INFO sqlalchemy.engine.Engine [raw sql] ()\n",
      "2022-12-16 14:41:35,984 INFO sqlalchemy.engine.Engine PRAGMA main.index_list(\"some_table\")\n",
      "2022-12-16 14:41:35,986 INFO sqlalchemy.engine.Engine [raw sql] ()\n",
      "2022-12-16 14:41:35,988 INFO sqlalchemy.engine.Engine PRAGMA temp.index_list(\"some_table\")\n",
      "2022-12-16 14:41:35,989 INFO sqlalchemy.engine.Engine [raw sql] ()\n",
      "2022-12-16 14:41:35,992 INFO sqlalchemy.engine.Engine PRAGMA main.table_info(\"some_table\")\n",
      "2022-12-16 14:41:35,993 INFO sqlalchemy.engine.Engine [raw sql] ()\n",
      "2022-12-16 14:41:35,996 INFO sqlalchemy.engine.Engine SELECT sql FROM  (SELECT * FROM sqlite_master UNION ALL   SELECT * FROM sqlite_temp_master) WHERE name = ? AND type in ('table', 'view')\n",
      "2022-12-16 14:41:35,997 INFO sqlalchemy.engine.Engine [raw sql] ('some_table',)\n",
      "2022-12-16 14:41:36,006 INFO sqlalchemy.engine.Engine ROLLBACK\n"
     ]
    }
   ],
   "source": [
    "some_table = Table(\"some_table\", metadata_obj, autoload_with=engine)\n",
    "# BEGIN (implicit)\n",
    "# PRAGMA main.table_...info(\"some_table\")\n",
    "# [raw sql] ()\n",
    "# SELECT sql FROM  (SELECT * FROM sqlite_master UNION ALL   SELECT * FROM sqlite_temp_master) WHERE name = ? AND type in ('table', 'view')\n",
    "# [raw sql] ('some_table',)\n",
    "# PRAGMA main.foreign_key_list(\"some_table\")\n",
    "# ...\n",
    "# PRAGMA main.index_list(\"some_table\")\n",
    "# ...\n",
    "# ROLLBACK"
   ]
  },
  {
   "cell_type": "code",
   "execution_count": 19,
   "metadata": {},
   "outputs": [
    {
     "data": {
      "text/plain": [
       "Table('some_table', MetaData(), Column('x', INTEGER(), table=<some_table>), Column('y', INTEGER(), table=<some_table>), schema=None)"
      ]
     },
     "execution_count": 19,
     "metadata": {},
     "output_type": "execute_result"
    }
   ],
   "source": [
    "some_table"
   ]
  },
  {
   "cell_type": "code",
   "execution_count": 20,
   "metadata": {},
   "outputs": [],
   "source": [
    "squidward = User(name=\"squidward\", fullname=\"Squidward Tentacles\")\n",
    "krabs = User(name=\"ehkrabs\", fullname=\"Eugene H. Krabs\")\n",
    "session = Session(engine)\n"
   ]
  },
  {
   "attachments": {},
   "cell_type": "markdown",
   "metadata": {},
   "source": [
    "The objects are then added to the Session using the Session.add() method. When this is called, the objects are in a state known as pending and have not been inserted yet:"
   ]
  },
  {
   "cell_type": "code",
   "execution_count": 21,
   "metadata": {},
   "outputs": [],
   "source": [
    "session.add(squidward)\n",
    "session.add(krabs)"
   ]
  },
  {
   "attachments": {},
   "cell_type": "markdown",
   "metadata": {},
   "source": [
    "When we have pending objects, we can see this state by looking at a collection on the Session called Session.new:"
   ]
  },
  {
   "cell_type": "code",
   "execution_count": 22,
   "metadata": {},
   "outputs": [
    {
     "data": {
      "text/plain": [
       "IdentitySet([User(id=None, name='squidward', fullname='Squidward Tentacles'), User(id=None, name='ehkrabs', fullname='Eugene H. Krabs')])"
      ]
     },
     "execution_count": 22,
     "metadata": {},
     "output_type": "execute_result"
    }
   ],
   "source": [
    "session.new\n",
    "# IdentitySet([User(id=None, name='squidward', fullname='Squidward Tentacles'), User(id=None, name='ehkrabs', fullname='Eugene H. Krabs')])"
   ]
  },
  {
   "attachments": {},
   "cell_type": "markdown",
   "metadata": {},
   "source": [
    "The Session makes use of a pattern known as unit of work. This generally means it accumulates changes one at a time, but does not actually communicate them to the database until needed. This allows it to make better decisions about how SQL DML should be emitted in the transaction based on a given set of pending changes. When it does emit SQL to the database to push out the current set of changes, the process is known as a flush.\n",
    "\n",
    "We can illustrate the flush process manually by calling the Session.flush() method:"
   ]
  },
  {
   "cell_type": "code",
   "execution_count": 23,
   "metadata": {},
   "outputs": [
    {
     "name": "stdout",
     "output_type": "stream",
     "text": [
      "2022-12-16 14:58:51,827 INFO sqlalchemy.engine.Engine BEGIN (implicit)\n",
      "2022-12-16 14:58:51,830 INFO sqlalchemy.engine.Engine INSERT INTO user_account (name, fullname) VALUES (?, ?), (?, ?) RETURNING id\n",
      "2022-12-16 14:58:51,835 INFO sqlalchemy.engine.Engine [generated in 0.00024s (insertmanyvalues)] ('squidward', 'Squidward Tentacles', 'ehkrabs', 'Eugene H. Krabs')\n"
     ]
    }
   ],
   "source": [
    "session.flush()\n",
    "# BEGIN (implicit)\n",
    "# INSERT INTO user_account (name, fullname) VALUES (?, ?), (?, ?) RETURNING id\n",
    "# [...] ('squidward', 'Squidward Tentacles', 'ehkrabs', 'Eugene H. Krabs')"
   ]
  },
  {
   "attachments": {},
   "cell_type": "markdown",
   "metadata": {},
   "source": [
    "Above we observe the Session was first called upon to emit SQL, so it created a new transaction and emitted the appropriate INSERT statements for the two objects. The transaction now remains open until we call any of the Session.commit(), Session.rollback(), or Session.close() methods of Session.\n",
    "\n",
    "While Session.flush() may be used to manually push out pending changes to the current transaction, it is usually unnecessary as the Session features a behavior known as autoflush, which we will illustrate later. It also flushes out changes whenever Session.commit() is called.\n",
    "\n",
    "# Autogenerated primary key attributes\n",
    "Once the rows are inserted, the two Python objects we’ve created are in a state known as persistent, where they are associated with the Session object in which they were added or loaded, and feature lots of other behaviors that will be covered later.\n",
    "\n",
    "Another effect of the INSERT that occurred was that the ORM has retrieved the new primary key identifiers for each new object; internally it normally uses the same CursorResult.inserted_primary_key accessor we introduced previously. The squidward and krabs objects now have these new primary key identifiers associated with them and we can view them by acesssing the id attribute:"
   ]
  },
  {
   "cell_type": "code",
   "execution_count": 24,
   "metadata": {},
   "outputs": [
    {
     "data": {
      "text/plain": [
       "2"
      ]
     },
     "execution_count": 24,
     "metadata": {},
     "output_type": "execute_result"
    }
   ],
   "source": [
    "squidward.id\n",
    "# 4\n",
    "krabs.id\n",
    "# 5"
   ]
  },
  {
   "attachments": {},
   "cell_type": "markdown",
   "metadata": {},
   "source": [
    "# Getting Objects by Primary Key from the Identity Map\n",
    "The primary key identity of the objects are significant to the Session, as the objects are now linked to this identity in memory using a feature known as the identity map. The identity map is an in-memory store that links all objects currently loaded in memory to their primary key identity. We can observe this by retrieving one of the above objects using the Session.get() method, which will return an entry from the identity map if locally present, otherwise emitting a SELECT:"
   ]
  },
  {
   "cell_type": "code",
   "execution_count": 26,
   "metadata": {},
   "outputs": [
    {
     "name": "stdout",
     "output_type": "stream",
     "text": [
      "2022-12-16 15:00:42,144 INFO sqlalchemy.engine.Engine SELECT user_account.id AS user_account_id, user_account.name AS user_account_name, user_account.fullname AS user_account_fullname \n",
      "FROM user_account \n",
      "WHERE user_account.id = ?\n",
      "2022-12-16 15:00:42,146 INFO sqlalchemy.engine.Engine [generated in 0.00236s] (4,)\n"
     ]
    },
    {
     "data": {
      "text/plain": [
       "User(id=4, name='squidward', fullname='Squidward Tentacles')"
      ]
     },
     "execution_count": 26,
     "metadata": {},
     "output_type": "execute_result"
    }
   ],
   "source": [
    "some_squidward = session.get(User, 4)\n",
    "some_squidward\n",
    "User(id=4, name='squidward', fullname='Squidward Tentacles')"
   ]
  },
  {
   "attachments": {},
   "cell_type": "markdown",
   "metadata": {},
   "source": [
    "The important thing to note about the identity map is that it maintains a unique instance of a particular Python object per a particular database identity, within the scope of a particular Session object. We may observe that the some_squidward refers to the same object as that of squidward previously:"
   ]
  },
  {
   "cell_type": "code",
   "execution_count": null,
   "metadata": {},
   "outputs": [],
   "source": [
    "some_squidward is squidward\n",
    "# True"
   ]
  },
  {
   "attachments": {},
   "cell_type": "markdown",
   "metadata": {},
   "source": [
    "The identity map is a critical feature that allows complex sets of objects to be manipulated within a transaction without things getting out of sync."
   ]
  },
  {
   "attachments": {},
   "cell_type": "markdown",
   "metadata": {},
   "source": [
    "# Committing\n",
    "There’s much more to say about how the Session works which will be discussed further. For now we will commit the transaction so that we can build up knowledge on how to SELECT rows before examining more ORM behaviors and features:"
   ]
  },
  {
   "cell_type": "code",
   "execution_count": 27,
   "metadata": {},
   "outputs": [
    {
     "name": "stdout",
     "output_type": "stream",
     "text": [
      "2022-12-16 15:02:14,130 INFO sqlalchemy.engine.Engine COMMIT\n"
     ]
    }
   ],
   "source": [
    "session.commit()\n",
    "# COMMIT"
   ]
  },
  {
   "attachments": {},
   "cell_type": "markdown",
   "metadata": {},
   "source": [
    "The above operation will commit the transaction that was in progress. The objects which we’ve dealt with are still attached to the Session, which is a state they stay in until the Session is closed (which is introduced at 'Closing a Session')."
   ]
  },
  {
   "cell_type": "code",
   "execution_count": null,
   "metadata": {},
   "outputs": [],
   "source": [
    "sandy = session.execute(select(User).filter_by(name=\"sandy\")).scalar_one()\n",
    "# BEGIN (implicit)\n",
    "# SELECT user_account.id, user_account.name, user_account.fullname\n",
    "# FROM user_account\n",
    "# WHERE user_account.name = ?\n",
    "# [...] ('sandy',)\n",
    "sandy\n",
    "# User(id=2, name='sandy', fullname='Sandy Cheeks')\n",
    "sandy.fullname = \"Sandy Squirrel\"\n",
    "sandy in session.dirty\n",
    "# True\n",
    "sandy_fullname = session.execute(select(User.fullname).where(User.id == 2)).scalar_one()\n",
    "# UPDATE user_account SET fullname=? WHERE user_account.id = ?\n",
    "# [...] ('Sandy Squirrel', 2)\n",
    "# SELECT user_account.fullname\n",
    "# FROM user_account\n",
    "# WHERE user_account.id = ?\n",
    "# [...] (2,)\n",
    "print(sandy_fullname)\n",
    "# Sandy Squirrel\n",
    "sandy in session.dirty\n",
    "# False"
   ]
  },
  {
   "attachments": {},
   "cell_type": "markdown",
   "metadata": {},
   "source": [
    "We can see above that we requested that the Session execute a single select() statement. However the SQL emitted shows that an UPDATE were emitted as well, which was the flush process pushing out pending changes. The sandy Python object is now no longer considered dirty:"
   ]
  },
  {
   "attachments": {},
   "cell_type": "markdown",
   "metadata": {},
   "source": [
    "# Deleting ORM Objects using the Unit of Work pattern"
   ]
  },
  {
   "cell_type": "code",
   "execution_count": null,
   "metadata": {},
   "outputs": [],
   "source": [
    "patrick = session.get(User, 3)\n",
    "# SELECT user_account.id AS user_account_id, user_account.name AS user_account_name,\n",
    "# user_account.fullname AS user_account_fullname\n",
    "# FROM user_account\n",
    "# WHERE user_account.id = ?\n",
    "# [...] (3,)\n",
    "session.delete(patrick)\n"
   ]
  },
  {
   "attachments": {},
   "cell_type": "markdown",
   "metadata": {},
   "source": [
    "Current ORM behavior is that patrick stays in the Session until the flush proceeds, which as mentioned before occurs if we emit a query:"
   ]
  },
  {
   "cell_type": "code",
   "execution_count": null,
   "metadata": {},
   "outputs": [],
   "source": [
    "session.execute(select(User).where(User.name == \"patrick\")).first()\n",
    "# SELECT address.id AS address_id, address.email_address AS address_email_address,\n",
    "# address.user_id AS address_user_id\n",
    "# FROM address\n",
    "# WHERE ? = address.user_id\n",
    "# [...] (3,)\n",
    "# DELETE FROM user_account WHERE user_account.id = ?\n",
    "# [...] (3,)\n",
    "# SELECT user_account.id, user_account.name, user_account.fullname\n",
    "# FROM user_account\n",
    "# WHERE user_account.name = ?\n",
    "# [...] ('patrick',)"
   ]
  },
  {
   "attachments": {},
   "cell_type": "markdown",
   "metadata": {},
   "source": [
    "Above, the SELECT we asked to emit was preceded by a DELETE, which indicated the pending deletion for patrick proceeded. There was also a SELECT against the address table, which was prompted by the ORM looking for rows in this table which may be related to the target row; this behavior is part of a behavior known as cascade, and can be tailored to work more efficiently by allowing the database to handle related rows in address automatically; the section delete has all the detail on this.\n",
    "\n",
    "Beyond that, the patrick object instance now being deleted is no longer considered to be persistent within the Session, as is shown by the containment check:"
   ]
  },
  {
   "cell_type": "code",
   "execution_count": null,
   "metadata": {},
   "outputs": [],
   "source": [
    "patrick in session\n",
    "# False"
   ]
  },
  {
   "attachments": {},
   "cell_type": "markdown",
   "metadata": {},
   "source": [
    "However just like the UPDATEs we made to the sandy object, every change we’ve made here is local to an ongoing transaction, which won’t become permanent if we don’t commit it. As rolling the transaction back is actually more interesting at the moment, we will do that in the next section."
   ]
  }
 ],
 "metadata": {
  "kernelspec": {
   "display_name": "fastapi",
   "language": "python",
   "name": "python3"
  },
  "language_info": {
   "codemirror_mode": {
    "name": "ipython",
    "version": 3
   },
   "file_extension": ".py",
   "mimetype": "text/x-python",
   "name": "python",
   "nbconvert_exporter": "python",
   "pygments_lexer": "ipython3",
   "version": "3.10.8"
  },
  "orig_nbformat": 4,
  "vscode": {
   "interpreter": {
    "hash": "6216241ef11504e399ee5e22705eeb5637f8c4221c904cf4171eab36a2dfecc0"
   }
  }
 },
 "nbformat": 4,
 "nbformat_minor": 2
}
